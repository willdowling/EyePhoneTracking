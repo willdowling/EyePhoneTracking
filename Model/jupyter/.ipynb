{
 "cells": [
  {
   "cell_type": "code",
   "execution_count": null,
   "metadata": {},
   "outputs": [],
   "source": []
  },
  {
   "cell_type": "code",
   "execution_count": null,
   "metadata": {},
   "outputs": [],
   "source": [
    "import keras, os, shutil\n",
    "import numpy\n",
    "from os.path import join\n",
    "import glob\n",
    "import json\n",
    "\n",
    "dataset_dir = \"C:/Users/User/Desktop/Eyetracking\"\n",
    "dirs = glob.glob(os.path.join(dataset_dir, \"0*\"))\n",
    "test_data, train_data, val_data = [];\n",
    "for dir in dirs[:]:\n",
    "\n",
    "        # open json files\n",
    "    face_file = open(join(dataset_dir, dir, \"appleFace.json\"))\n",
    "    left_file = open(join(dataset_dir, dir, \"appleLeftEye.json\"))\n",
    "    right_file = open(join(dataset_dir, dir, \"appleRightEye.json\"))\n",
    "    frames_file = open(join(dataset_dir, dir, \"frames.json\"))\n",
    "    info_file = open(join(dataset_dir, dir, \"info.json\"))\n",
    "\n",
    "        # read json content\n",
    "    face_json = json.load(face_file)\n",
    "    left_json = json.load(left_file)\n",
    "    right_json = json.load(right_file)\n",
    "    frames_json = json.load(frames_file)\n",
    "    info_json = json.load(info_file)\n",
    "    \n",
    "    if info_json[\"Dataset\"] == \"train\":\n",
    "        train_data.append(os.path.basename(dir))\n",
    "\n",
    "    if info_json[\"Dataset\"] == \"test\":\n",
    "        test_data.append(os.path.basename(dir))\n",
    "\n",
    "    if info_json[\"Dataset\"] == \"val\":\n",
    "        val_data.append(os.path.basename(dir))"
   ]
  },
  {
   "cell_type": "markdown",
   "metadata": {},
   "source": []
  },
  {
   "cell_type": "code",
   "execution_count": null,
   "metadata": {},
   "outputs": [],
   "source": [
    "import cv2\n",
    "img = cv2.imread(join(path, dir, \"frames\", frame))\n",
    "    \n",
    "    if img is None:\n",
    "        print(\"Error opening image: {}\".format(join(path, dir, \"frames\", frame)))\n",
    "        continue\n",
    "    if int(face_json[\"X\"][idx]) < 0 or int(face_json[\"Y\"][idx]) < 0 or int(left_json[\"X\"][idx]) < 0 or int(left_json[\"Y\"][idx]) < 0 or int(right_json[\"X\"][idx]) < 0 or int(right_json[\"Y\"][idx]) < 0:\n",
    "        continue\n"
   ]
  },
  {
   "cell_type": "code",
   "execution_count": null,
   "metadata": {},
   "outputs": [],
   "source": []
  }
 ],
 "metadata": {
  "kernelspec": {
   "display_name": "Python 3",
   "language": "python",
   "name": "python3"
  },
  "language_info": {
   "codemirror_mode": {
    "name": "ipython",
    "version": 3
   },
   "file_extension": ".py",
   "mimetype": "text/x-python",
   "name": "python",
   "nbconvert_exporter": "python",
   "pygments_lexer": "ipython3",
   "version": "3.7.5"
  }
 },
 "nbformat": 4,
 "nbformat_minor": 2
}
